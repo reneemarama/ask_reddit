{
 "cells": [
  {
   "cell_type": "code",
   "execution_count": 1,
   "metadata": {},
   "outputs": [],
   "source": [
    "import pandas as pd\n",
    "import numpy as np\n",
    "\n",
    "import requests\n",
    "import praw"
   ]
  },
  {
   "cell_type": "markdown",
   "metadata": {},
   "source": [
    "## Scrapping Data From Reddit"
   ]
  },
  {
   "cell_type": "markdown",
   "metadata": {},
   "source": [
    "## Setting up a function `get_reddit()` that will scrape reddit posts and append content to a list that will be converted to a dataframe"
   ]
  },
  {
   "cell_type": "markdown",
   "metadata": {},
   "source": [
    "#### Setting up `before` variable ensures we get unique posts each request"
   ]
  },
  {
   "cell_type": "code",
   "execution_count": 2,
   "metadata": {},
   "outputs": [],
   "source": [
    "#Before is a pushshift parameter that scrapes the data before X\n",
    "\n",
    "before = None"
   ]
  },
  {
   "cell_type": "markdown",
   "metadata": {},
   "source": [
    "#### Setting up a list `reddit_list` that'll catch the data frames that come out of each interation of `get_reddit()` to later be concatinated back into a dataframe"
   ]
  },
  {
   "cell_type": "code",
   "execution_count": 3,
   "metadata": {},
   "outputs": [],
   "source": [
    "reddit_list = []"
   ]
  },
  {
   "cell_type": "markdown",
   "metadata": {},
   "source": [
    "#### Declaring a function `get_reddit()` that scrapes posts from reddit and appends to a `reddit_list`"
   ]
  },
  {
   "cell_type": "code",
   "execution_count": 4,
   "metadata": {},
   "outputs": [],
   "source": [
    "def get_reddit(subreddit):   #subreddit is a parameter that\n",
    "    \n",
    "    global before  \n",
    "    global df_test\n",
    "    \n",
    "    params = {\n",
    "    \"subreddit\" : subreddit,\n",
    "    \"size\" : 1000,      #Can only scrape 1,000 at a time\n",
    "    \"before\": before    #before variable from above\n",
    "    }\n",
    "    \n",
    "            #Getting the data from reddit and turning it into a DataFrame\n",
    "    \n",
    "    base_url = 'https://api.pushshift.io/reddit/submission/search'\n",
    "    res = requests.get(base_url, params)\n",
    "    reddit_df = pd.DataFrame(res.json()['data'])\n",
    "    \n",
    "            #Returning a Smaller Version of DataFrame\n",
    "    \n",
    "    reddit_df = reddit_df[['created_utc', 'title', 'selftext']]\n",
    "    reddit_df['subreddit'] = subreddit\n",
    "    \n",
    "            #Overwriting the global veriable `before` so that the next instance gets different data\n",
    "    \n",
    "    before = reddit_df['created_utc'][-1:]\n",
    "    \n",
    "    reddit_list.append(reddit_df)"
   ]
  },
  {
   "cell_type": "markdown",
   "metadata": {},
   "source": [
    "#### Resetting `before` variable to none to make sure the `get_reddit()` function grabs the most recent posts"
   ]
  },
  {
   "cell_type": "code",
   "execution_count": 5,
   "metadata": {},
   "outputs": [],
   "source": [
    "before = None"
   ]
  },
  {
   "cell_type": "markdown",
   "metadata": {},
   "source": [
    "#### <span style ='color:green'> Since Reddit only allows 1,000 pulls per request, we're grabbing 1,000 posts 10 times - we can make 200 requests per minute. "
   ]
  },
  {
   "cell_type": "markdown",
   "metadata": {},
   "source": [
    "#### Grabbing 10,000 posts from \"AskMen\" subreddit "
   ]
  },
  {
   "cell_type": "code",
   "execution_count": 6,
   "metadata": {},
   "outputs": [
    {
     "name": "stdout",
     "output_type": "stream",
     "text": [
      "Interation 1\n",
      "Interation 2\n",
      "Interation 3\n",
      "Interation 4\n",
      "Interation 5\n",
      "Interation 6\n",
      "Interation 7\n",
      "Interation 8\n",
      "Interation 9\n",
      "Interation 10\n"
     ]
    }
   ],
   "source": [
    "for i in range(10):\n",
    "    get_reddit(\"AskMen\")\n",
    "    print(f\"Interation {i+1}\")"
   ]
  },
  {
   "cell_type": "markdown",
   "metadata": {},
   "source": [
    "#### Resetting `before` variable to none to ensure the `get_reddit()` function grabs the most recent posts"
   ]
  },
  {
   "cell_type": "code",
   "execution_count": 7,
   "metadata": {},
   "outputs": [],
   "source": [
    "before = None"
   ]
  },
  {
   "cell_type": "markdown",
   "metadata": {},
   "source": [
    "#### Grabbing 10,000 posts from \"AskWomen\" subreddit"
   ]
  },
  {
   "cell_type": "code",
   "execution_count": 8,
   "metadata": {},
   "outputs": [
    {
     "name": "stdout",
     "output_type": "stream",
     "text": [
      "Interation 1\n",
      "Interation 2\n",
      "Interation 3\n",
      "Interation 4\n",
      "Interation 5\n",
      "Interation 6\n",
      "Interation 7\n",
      "Interation 8\n",
      "Interation 9\n",
      "Interation 10\n"
     ]
    }
   ],
   "source": [
    "for i in range(10):\n",
    "    get_reddit(\"AskWomen\")\n",
    "    print(f\"Interation {i+1}\")"
   ]
  },
  {
   "cell_type": "markdown",
   "metadata": {},
   "source": [
    "#### Converting all the posts we grabbed into a dataframe"
   ]
  },
  {
   "cell_type": "code",
   "execution_count": 9,
   "metadata": {},
   "outputs": [
    {
     "data": {
      "text/html": [
       "<div>\n",
       "<style scoped>\n",
       "    .dataframe tbody tr th:only-of-type {\n",
       "        vertical-align: middle;\n",
       "    }\n",
       "\n",
       "    .dataframe tbody tr th {\n",
       "        vertical-align: top;\n",
       "    }\n",
       "\n",
       "    .dataframe thead th {\n",
       "        text-align: right;\n",
       "    }\n",
       "</style>\n",
       "<table border=\"1\" class=\"dataframe\">\n",
       "  <thead>\n",
       "    <tr style=\"text-align: right;\">\n",
       "      <th></th>\n",
       "      <th>created_utc</th>\n",
       "      <th>title</th>\n",
       "      <th>selftext</th>\n",
       "      <th>subreddit</th>\n",
       "    </tr>\n",
       "  </thead>\n",
       "  <tbody>\n",
       "    <tr>\n",
       "      <th>0</th>\n",
       "      <td>1580515632</td>\n",
       "      <td>How do you muster up the courage to ask a girl...</td>\n",
       "      <td>[removed]</td>\n",
       "      <td>AskMen</td>\n",
       "    </tr>\n",
       "    <tr>\n",
       "      <th>1</th>\n",
       "      <td>1580515616</td>\n",
       "      <td>Do men feel it if a condom accidentally falls ...</td>\n",
       "      <td>[removed]</td>\n",
       "      <td>AskMen</td>\n",
       "    </tr>\n",
       "    <tr>\n",
       "      <th>2</th>\n",
       "      <td>1580515485</td>\n",
       "      <td>Men, do you feel it if a condom accidentally f...</td>\n",
       "      <td>[removed]</td>\n",
       "      <td>AskMen</td>\n",
       "    </tr>\n",
       "    <tr>\n",
       "      <th>3</th>\n",
       "      <td>1580515429</td>\n",
       "      <td>A girl you are dating says she had anxiety abo...</td>\n",
       "      <td></td>\n",
       "      <td>AskMen</td>\n",
       "    </tr>\n",
       "    <tr>\n",
       "      <th>4</th>\n",
       "      <td>1580515379</td>\n",
       "      <td>Men whose advice I desperately need, how often...</td>\n",
       "      <td>Help PLSSSSS</td>\n",
       "      <td>AskMen</td>\n",
       "    </tr>\n",
       "  </tbody>\n",
       "</table>\n",
       "</div>"
      ],
      "text/plain": [
       "   created_utc                                              title  \\\n",
       "0   1580515632  How do you muster up the courage to ask a girl...   \n",
       "1   1580515616  Do men feel it if a condom accidentally falls ...   \n",
       "2   1580515485  Men, do you feel it if a condom accidentally f...   \n",
       "3   1580515429  A girl you are dating says she had anxiety abo...   \n",
       "4   1580515379  Men whose advice I desperately need, how often...   \n",
       "\n",
       "       selftext subreddit  \n",
       "0     [removed]    AskMen  \n",
       "1     [removed]    AskMen  \n",
       "2     [removed]    AskMen  \n",
       "3                  AskMen  \n",
       "4  Help PLSSSSS    AskMen  "
      ]
     },
     "execution_count": 9,
     "metadata": {},
     "output_type": "execute_result"
    }
   ],
   "source": [
    "df = pd.concat(reddit_list)\n",
    "df.head()"
   ]
  },
  {
   "cell_type": "markdown",
   "metadata": {},
   "source": [
    "#### Exporting as a CSV"
   ]
  },
  {
   "cell_type": "code",
   "execution_count": 11,
   "metadata": {},
   "outputs": [],
   "source": [
    "df.to_csv(\"./reddit_scrape_df.csv\", index = False)"
   ]
  }
 ],
 "metadata": {
  "kernelspec": {
   "display_name": "Python 3",
   "language": "python",
   "name": "python3"
  },
  "language_info": {
   "codemirror_mode": {
    "name": "ipython",
    "version": 3
   },
   "file_extension": ".py",
   "mimetype": "text/x-python",
   "name": "python",
   "nbconvert_exporter": "python",
   "pygments_lexer": "ipython3",
   "version": "3.7.4"
  }
 },
 "nbformat": 4,
 "nbformat_minor": 4
}
