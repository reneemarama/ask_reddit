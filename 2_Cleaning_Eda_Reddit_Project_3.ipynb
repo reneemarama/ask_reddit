{
 "cells": [
  {
   "cell_type": "code",
   "execution_count": 1,
   "metadata": {},
   "outputs": [
    {
     "name": "stderr",
     "output_type": "stream",
     "text": [
      "/Users/rwilkening/opt/anaconda3/lib/python3.7/site-packages/statsmodels/tools/_testing.py:19: FutureWarning: pandas.util.testing is deprecated. Use the functions in the public API at pandas.testing instead.\n",
      "  import pandas.util.testing as tm\n"
     ]
    }
   ],
   "source": [
    "    #General\n",
    "import pandas as pd\n",
    "import numpy as np\n",
    "\n",
    "\n",
    "    #Plotting\n",
    "import matplotlib.pyplot as plt\n",
    "import seaborn as sns\n",
    "\n",
    "    #nltk and regex packages\n",
    "import regex as re\n",
    "from nltk.tokenize import RegexpTokenizer\n",
    "from nltk.corpus import stopwords\n",
    "from nltk.stem import WordNetLemmatizer\n",
    "from nltk.sentiment.vader import SentimentIntensityAnalyzer\n",
    "\n",
    "\n",
    "    #Sklearn Packages\n",
    "from sklearn.feature_extraction.text import CountVectorizer, TfidfVectorizer\n",
    "from sklearn.feature_extraction import stop_words, text\n",
    "\n",
    "%config InlineBackend.figure_format = 'retina'"
   ]
  },
  {
   "cell_type": "markdown",
   "metadata": {},
   "source": [
    "---\n",
    "---\n",
    "---"
   ]
  },
  {
   "cell_type": "markdown",
   "metadata": {},
   "source": [
    "# Cleaning and Formatting Data"
   ]
  },
  {
   "cell_type": "markdown",
   "metadata": {},
   "source": [
    "---\n",
    "---\n",
    "---"
   ]
  },
  {
   "cell_type": "markdown",
   "metadata": {},
   "source": [
    "#### Read in scrape csv"
   ]
  },
  {
   "cell_type": "code",
   "execution_count": 2,
   "metadata": {},
   "outputs": [
    {
     "data": {
      "text/html": [
       "<div>\n",
       "<style scoped>\n",
       "    .dataframe tbody tr th:only-of-type {\n",
       "        vertical-align: middle;\n",
       "    }\n",
       "\n",
       "    .dataframe tbody tr th {\n",
       "        vertical-align: top;\n",
       "    }\n",
       "\n",
       "    .dataframe thead th {\n",
       "        text-align: right;\n",
       "    }\n",
       "</style>\n",
       "<table border=\"1\" class=\"dataframe\">\n",
       "  <thead>\n",
       "    <tr style=\"text-align: right;\">\n",
       "      <th></th>\n",
       "      <th>created_utc</th>\n",
       "      <th>title</th>\n",
       "      <th>selftext</th>\n",
       "      <th>subreddit</th>\n",
       "    </tr>\n",
       "  </thead>\n",
       "  <tbody>\n",
       "    <tr>\n",
       "      <th>0</th>\n",
       "      <td>1580515632</td>\n",
       "      <td>How do you muster up the courage to ask a girl...</td>\n",
       "      <td>[removed]</td>\n",
       "      <td>AskMen</td>\n",
       "    </tr>\n",
       "    <tr>\n",
       "      <th>1</th>\n",
       "      <td>1580515616</td>\n",
       "      <td>Do men feel it if a condom accidentally falls ...</td>\n",
       "      <td>[removed]</td>\n",
       "      <td>AskMen</td>\n",
       "    </tr>\n",
       "    <tr>\n",
       "      <th>2</th>\n",
       "      <td>1580515485</td>\n",
       "      <td>Men, do you feel it if a condom accidentally f...</td>\n",
       "      <td>[removed]</td>\n",
       "      <td>AskMen</td>\n",
       "    </tr>\n",
       "    <tr>\n",
       "      <th>3</th>\n",
       "      <td>1580515429</td>\n",
       "      <td>A girl you are dating says she had anxiety abo...</td>\n",
       "      <td>NaN</td>\n",
       "      <td>AskMen</td>\n",
       "    </tr>\n",
       "    <tr>\n",
       "      <th>4</th>\n",
       "      <td>1580515379</td>\n",
       "      <td>Men whose advice I desperately need, how often...</td>\n",
       "      <td>Help PLSSSSS</td>\n",
       "      <td>AskMen</td>\n",
       "    </tr>\n",
       "  </tbody>\n",
       "</table>\n",
       "</div>"
      ],
      "text/plain": [
       "   created_utc                                              title  \\\n",
       "0   1580515632  How do you muster up the courage to ask a girl...   \n",
       "1   1580515616  Do men feel it if a condom accidentally falls ...   \n",
       "2   1580515485  Men, do you feel it if a condom accidentally f...   \n",
       "3   1580515429  A girl you are dating says she had anxiety abo...   \n",
       "4   1580515379  Men whose advice I desperately need, how often...   \n",
       "\n",
       "       selftext subreddit  \n",
       "0     [removed]    AskMen  \n",
       "1     [removed]    AskMen  \n",
       "2     [removed]    AskMen  \n",
       "3           NaN    AskMen  \n",
       "4  Help PLSSSSS    AskMen  "
      ]
     },
     "execution_count": 2,
     "metadata": {},
     "output_type": "execute_result"
    }
   ],
   "source": [
    "df = pd.read_csv('./reddit_scrape_df.csv')\n",
    "df.head()"
   ]
  },
  {
   "cell_type": "markdown",
   "metadata": {},
   "source": [
    "#### Checking the size of the data frame"
   ]
  },
  {
   "cell_type": "code",
   "execution_count": 3,
   "metadata": {},
   "outputs": [
    {
     "data": {
      "text/plain": [
       "(20000, 4)"
      ]
     },
     "execution_count": 3,
     "metadata": {},
     "output_type": "execute_result"
    }
   ],
   "source": [
    "df.shape"
   ]
  },
  {
   "cell_type": "markdown",
   "metadata": {},
   "source": [
    "#### Changing `AskMen` and `AskWomen` to 0 and 1, Respectively"
   ]
  },
  {
   "cell_type": "code",
   "execution_count": 4,
   "metadata": {},
   "outputs": [],
   "source": [
    "df['subreddit_target'] = df['subreddit'].replace({\"AskMen\": 0, \"AskWomen\":1})"
   ]
  },
  {
   "cell_type": "markdown",
   "metadata": {},
   "source": [
    "#### Checking for duplicate rows, there are none"
   ]
  },
  {
   "cell_type": "code",
   "execution_count": 5,
   "metadata": {},
   "outputs": [
    {
     "data": {
      "text/plain": [
       "(19996, 5)"
      ]
     },
     "execution_count": 5,
     "metadata": {},
     "output_type": "execute_result"
    }
   ],
   "source": [
    "#Adapted from classmate Pete Plass\n",
    "\n",
    "df.drop_duplicates().shape"
   ]
  },
  {
   "cell_type": "markdown",
   "metadata": {},
   "source": [
    "#### Removing Where Posts Have Been `[removed]`"
   ]
  },
  {
   "cell_type": "code",
   "execution_count": 6,
   "metadata": {},
   "outputs": [],
   "source": [
    "df.replace(\"[removed]\", \"\", inplace = True)"
   ]
  },
  {
   "cell_type": "markdown",
   "metadata": {},
   "source": [
    "#### Created a new column with `selftext` and `title` text"
   ]
  },
  {
   "cell_type": "code",
   "execution_count": 7,
   "metadata": {},
   "outputs": [],
   "source": [
    "df['all_text'] = df['title'] + \" \" + df['selftext'] + \" \""
   ]
  },
  {
   "cell_type": "markdown",
   "metadata": {},
   "source": [
    "#### Updating Data Frame to Only Have Necessary Columns\n",
    "\n",
    "(So that when we drop nulls we're only dropping the rows that affect modeling)"
   ]
  },
  {
   "cell_type": "code",
   "execution_count": 8,
   "metadata": {},
   "outputs": [
    {
     "data": {
      "text/html": [
       "<div>\n",
       "<style scoped>\n",
       "    .dataframe tbody tr th:only-of-type {\n",
       "        vertical-align: middle;\n",
       "    }\n",
       "\n",
       "    .dataframe tbody tr th {\n",
       "        vertical-align: top;\n",
       "    }\n",
       "\n",
       "    .dataframe thead th {\n",
       "        text-align: right;\n",
       "    }\n",
       "</style>\n",
       "<table border=\"1\" class=\"dataframe\">\n",
       "  <thead>\n",
       "    <tr style=\"text-align: right;\">\n",
       "      <th></th>\n",
       "      <th>subreddit_target</th>\n",
       "      <th>all_text</th>\n",
       "    </tr>\n",
       "  </thead>\n",
       "  <tbody>\n",
       "    <tr>\n",
       "      <th>0</th>\n",
       "      <td>0</td>\n",
       "      <td>How do you muster up the courage to ask a girl...</td>\n",
       "    </tr>\n",
       "    <tr>\n",
       "      <th>1</th>\n",
       "      <td>0</td>\n",
       "      <td>Do men feel it if a condom accidentally falls ...</td>\n",
       "    </tr>\n",
       "    <tr>\n",
       "      <th>2</th>\n",
       "      <td>0</td>\n",
       "      <td>Men, do you feel it if a condom accidentally f...</td>\n",
       "    </tr>\n",
       "    <tr>\n",
       "      <th>3</th>\n",
       "      <td>0</td>\n",
       "      <td>NaN</td>\n",
       "    </tr>\n",
       "    <tr>\n",
       "      <th>4</th>\n",
       "      <td>0</td>\n",
       "      <td>Men whose advice I desperately need, how often...</td>\n",
       "    </tr>\n",
       "  </tbody>\n",
       "</table>\n",
       "</div>"
      ],
      "text/plain": [
       "   subreddit_target                                           all_text\n",
       "0                 0  How do you muster up the courage to ask a girl...\n",
       "1                 0  Do men feel it if a condom accidentally falls ...\n",
       "2                 0  Men, do you feel it if a condom accidentally f...\n",
       "3                 0                                                NaN\n",
       "4                 0  Men whose advice I desperately need, how often..."
      ]
     },
     "execution_count": 8,
     "metadata": {},
     "output_type": "execute_result"
    }
   ],
   "source": [
    "df = df[['subreddit_target', 'all_text']]\n",
    "df.head()"
   ]
  },
  {
   "cell_type": "markdown",
   "metadata": {},
   "source": [
    "#### Dropping Nulls"
   ]
  },
  {
   "cell_type": "code",
   "execution_count": 9,
   "metadata": {},
   "outputs": [
    {
     "data": {
      "text/plain": [
       "subreddit_target       0\n",
       "all_text            5539\n",
       "dtype: int64"
      ]
     },
     "execution_count": 9,
     "metadata": {},
     "output_type": "execute_result"
    }
   ],
   "source": [
    "df.isnull().sum()"
   ]
  },
  {
   "cell_type": "code",
   "execution_count": 10,
   "metadata": {},
   "outputs": [],
   "source": [
    "df.dropna(axis = 0, inplace=True)"
   ]
  },
  {
   "cell_type": "code",
   "execution_count": 11,
   "metadata": {},
   "outputs": [
    {
     "data": {
      "text/plain": [
       "subreddit_target    0\n",
       "all_text            0\n",
       "dtype: int64"
      ]
     },
     "execution_count": 11,
     "metadata": {},
     "output_type": "execute_result"
    }
   ],
   "source": [
    "df.isnull().sum()"
   ]
  },
  {
   "cell_type": "markdown",
   "metadata": {},
   "source": [
    "## Cleaning Text"
   ]
  },
  {
   "cell_type": "markdown",
   "metadata": {},
   "source": [
    "#### Removing Extra an Weird Things"
   ]
  },
  {
   "cell_type": "code",
   "execution_count": 12,
   "metadata": {},
   "outputs": [],
   "source": [
    "#Adapted from Instructor Hovanes\n",
    "\n",
    "df['all_text'] = df['all_text'].map(lambda x: re.sub('\\/\\/', ' ', x)) # Removing line breaks\n",
    "df['all_text'] = df['all_text'].map(lambda x: re.sub('[\\\\][\\']', '', x)) # Removing apostrophes\n",
    "df['all_text'] = df['all_text'].map(lambda x: re.sub('[^\\w\\s]', ' ', x)) # Removing all punctuation \n",
    "df['all_text'] = df['all_text'].map(lambda x: re.sub('\\xa0', ' ', x)) # removing xa0\n",
    "df['all_text'] = df['all_text'].map(lambda x: re.sub('\\n', ' ', x)) # removing line break\n",
    "df['all_text'] = df['all_text'].map(lambda x: re.sub('\\s[\\/]?r\\/[^\\s]+', ' ', x)) # removing mentions of any subreddit\n",
    "df['all_text'] = df['all_text'].map(lambda x: re.sub('http[s]?:\\/\\/[^\\s]*', ' ', x)) # removing urls\n",
    "df['all_text'] = df['all_text'].map(lambda x: re.sub(\"[^a-zA-Z]\", \" \", x)) # Only keeping letters"
   ]
  },
  {
   "cell_type": "markdown",
   "metadata": {},
   "source": [
    "#### Making all the text lower case"
   ]
  },
  {
   "cell_type": "code",
   "execution_count": 13,
   "metadata": {},
   "outputs": [],
   "source": [
    "df['all_text'] = df['all_text'].str.lower()"
   ]
  },
  {
   "cell_type": "markdown",
   "metadata": {},
   "source": [
    "---\n",
    "---\n",
    "---"
   ]
  },
  {
   "cell_type": "markdown",
   "metadata": {},
   "source": [
    "## Tokenizing"
   ]
  },
  {
   "cell_type": "markdown",
   "metadata": {},
   "source": [
    "---\n",
    "---\n",
    "---"
   ]
  },
  {
   "cell_type": "code",
   "execution_count": 14,
   "metadata": {},
   "outputs": [],
   "source": [
    "tokenizer = RegexpTokenizer(r'\\s+', gaps=True)"
   ]
  },
  {
   "cell_type": "markdown",
   "metadata": {},
   "source": [
    "#### Tokenizing Posts for `Women` and `Men`"
   ]
  },
  {
   "cell_type": "code",
   "execution_count": 15,
   "metadata": {},
   "outputs": [],
   "source": [
    "women_post_tokens = [tokenizer.tokenize(posts) for posts in df[df['subreddit_target'] ==1]['all_text'] ]\n",
    "men_post_tokens = [tokenizer.tokenize(posts) for posts in df[df['subreddit_target'] ==0]['all_text'] ]"
   ]
  },
  {
   "cell_type": "markdown",
   "metadata": {},
   "source": [
    "#### `ask_women` Tokenizing all text"
   ]
  },
  {
   "cell_type": "code",
   "execution_count": 18,
   "metadata": {},
   "outputs": [],
   "source": [
    "women_text = ''\n",
    "\n",
    "for post in df[df['subreddit_target'] == 1 ]['all_text']:\n",
    "    women_text += ' ' + post\n",
    "    \n",
    "    \n",
    "men_text = ''\n",
    "\n",
    "for post in df[df['subreddit_target'] == 0 ]['all_text']:\n",
    "    men_text += ' ' + post"
   ]
  },
  {
   "cell_type": "code",
   "execution_count": 19,
   "metadata": {},
   "outputs": [],
   "source": [
    "women_tokens = tokenizer.tokenize(women_text)\n",
    "men_tokens = tokenizer.tokenize(men_text)"
   ]
  },
  {
   "cell_type": "markdown",
   "metadata": {},
   "source": [
    "---"
   ]
  },
  {
   "cell_type": "markdown",
   "metadata": {},
   "source": [
    "## Exploring Tokenized Text"
   ]
  },
  {
   "cell_type": "markdown",
   "metadata": {},
   "source": [
    "---"
   ]
  },
  {
   "cell_type": "markdown",
   "metadata": {},
   "source": [
    "#### All the text in `ask_men` \n",
    "\n",
    "It takes a while to load, so only uncomment if you're particularly interested. "
   ]
  },
  {
   "cell_type": "code",
   "execution_count": 20,
   "metadata": {},
   "outputs": [],
   "source": [
    "# women_text"
   ]
  },
  {
   "cell_type": "markdown",
   "metadata": {},
   "source": [
    "#### Word Count for  `women_text`"
   ]
  },
  {
   "cell_type": "code",
   "execution_count": 21,
   "metadata": {},
   "outputs": [
    {
     "data": {
      "text/plain": [
       "1318743"
      ]
     },
     "execution_count": 21,
     "metadata": {},
     "output_type": "execute_result"
    }
   ],
   "source": [
    "len(women_text)"
   ]
  },
  {
   "cell_type": "markdown",
   "metadata": {},
   "source": [
    "#### Word count for post in `ask_men`"
   ]
  },
  {
   "cell_type": "code",
   "execution_count": 22,
   "metadata": {},
   "outputs": [
    {
     "data": {
      "text/plain": [
       "2178396"
      ]
     },
     "execution_count": 22,
     "metadata": {},
     "output_type": "execute_result"
    }
   ],
   "source": [
    "len(men_text)"
   ]
  },
  {
   "cell_type": "markdown",
   "metadata": {},
   "source": [
    "#### All the text in `ask_men` \n",
    "\n",
    "It takes a while to load, so only uncomment if you're particularly interested. "
   ]
  },
  {
   "cell_type": "code",
   "execution_count": 23,
   "metadata": {},
   "outputs": [],
   "source": [
    "# men_text"
   ]
  },
  {
   "cell_type": "code",
   "execution_count": 24,
   "metadata": {},
   "outputs": [
    {
     "data": {
      "text/html": [
       "<div>\n",
       "<style scoped>\n",
       "    .dataframe tbody tr th:only-of-type {\n",
       "        vertical-align: middle;\n",
       "    }\n",
       "\n",
       "    .dataframe tbody tr th {\n",
       "        vertical-align: top;\n",
       "    }\n",
       "\n",
       "    .dataframe thead th {\n",
       "        text-align: right;\n",
       "    }\n",
       "</style>\n",
       "<table border=\"1\" class=\"dataframe\">\n",
       "  <thead>\n",
       "    <tr style=\"text-align: right;\">\n",
       "      <th></th>\n",
       "      <th>subreddit_target</th>\n",
       "      <th>all_text</th>\n",
       "    </tr>\n",
       "  </thead>\n",
       "  <tbody>\n",
       "    <tr>\n",
       "      <th>0</th>\n",
       "      <td>0</td>\n",
       "      <td>how do you muster up the courage to ask a girl...</td>\n",
       "    </tr>\n",
       "    <tr>\n",
       "      <th>1</th>\n",
       "      <td>0</td>\n",
       "      <td>do men feel it if a condom accidentally falls ...</td>\n",
       "    </tr>\n",
       "    <tr>\n",
       "      <th>2</th>\n",
       "      <td>0</td>\n",
       "      <td>men  do you feel it if a condom accidentally f...</td>\n",
       "    </tr>\n",
       "    <tr>\n",
       "      <th>4</th>\n",
       "      <td>0</td>\n",
       "      <td>men whose advice i desperately need  how often...</td>\n",
       "    </tr>\n",
       "    <tr>\n",
       "      <th>5</th>\n",
       "      <td>0</td>\n",
       "      <td>men of reddit  how do you feel about women s w...</td>\n",
       "    </tr>\n",
       "    <tr>\n",
       "      <th>...</th>\n",
       "      <td>...</td>\n",
       "      <td>...</td>\n",
       "    </tr>\n",
       "    <tr>\n",
       "      <th>19992</th>\n",
       "      <td>1</td>\n",
       "      <td>my wife shares her period cycle with my mil  i...</td>\n",
       "    </tr>\n",
       "    <tr>\n",
       "      <th>19993</th>\n",
       "      <td>1</td>\n",
       "      <td>women how do you handle loneliness even after ...</td>\n",
       "    </tr>\n",
       "    <tr>\n",
       "      <th>19995</th>\n",
       "      <td>1</td>\n",
       "      <td>how do you tell your s o a secret about yourse...</td>\n",
       "    </tr>\n",
       "    <tr>\n",
       "      <th>19997</th>\n",
       "      <td>1</td>\n",
       "      <td>how do i control my anger</td>\n",
       "    </tr>\n",
       "    <tr>\n",
       "      <th>19999</th>\n",
       "      <td>1</td>\n",
       "      <td>women who had a nose job  what was it like</td>\n",
       "    </tr>\n",
       "  </tbody>\n",
       "</table>\n",
       "<p>14461 rows × 2 columns</p>\n",
       "</div>"
      ],
      "text/plain": [
       "       subreddit_target                                           all_text\n",
       "0                     0  how do you muster up the courage to ask a girl...\n",
       "1                     0  do men feel it if a condom accidentally falls ...\n",
       "2                     0  men  do you feel it if a condom accidentally f...\n",
       "4                     0  men whose advice i desperately need  how often...\n",
       "5                     0  men of reddit  how do you feel about women s w...\n",
       "...                 ...                                                ...\n",
       "19992                 1  my wife shares her period cycle with my mil  i...\n",
       "19993                 1  women how do you handle loneliness even after ...\n",
       "19995                 1  how do you tell your s o a secret about yourse...\n",
       "19997                 1                       how do i control my anger   \n",
       "19999                 1      women who had a nose job  what was it like   \n",
       "\n",
       "[14461 rows x 2 columns]"
      ]
     },
     "execution_count": 24,
     "metadata": {},
     "output_type": "execute_result"
    }
   ],
   "source": [
    "df"
   ]
  },
  {
   "cell_type": "markdown",
   "metadata": {},
   "source": [
    "---\n",
    "---\n",
    "---"
   ]
  },
  {
   "cell_type": "markdown",
   "metadata": {},
   "source": [
    "# Lemmatizing"
   ]
  },
  {
   "cell_type": "markdown",
   "metadata": {},
   "source": [
    "---\n",
    "---\n",
    "---"
   ]
  },
  {
   "cell_type": "code",
   "execution_count": 25,
   "metadata": {},
   "outputs": [],
   "source": [
    "lemmatizer = WordNetLemmatizer()"
   ]
  },
  {
   "cell_type": "markdown",
   "metadata": {},
   "source": [
    "####  Lemmatizing `ask_women` and `ask_men`"
   ]
  },
  {
   "cell_type": "code",
   "execution_count": 26,
   "metadata": {},
   "outputs": [],
   "source": [
    "men_lemmas = [lemmatizer.lemmatize(tokes) for tokes in men_tokens]\n",
    "women_lemmas = [lemmatizer.lemmatize(tokes) for tokes in women_tokens]"
   ]
  },
  {
   "cell_type": "markdown",
   "metadata": {},
   "source": [
    "#### How many unique words are in the men_lemmas"
   ]
  },
  {
   "cell_type": "code",
   "execution_count": 27,
   "metadata": {},
   "outputs": [
    {
     "data": {
      "text/plain": [
       "419793"
      ]
     },
     "execution_count": 27,
     "metadata": {},
     "output_type": "execute_result"
    }
   ],
   "source": [
    "len(men_lemmas)"
   ]
  },
  {
   "cell_type": "markdown",
   "metadata": {},
   "source": [
    "#### How many unique words are in the women_lemmas"
   ]
  },
  {
   "cell_type": "code",
   "execution_count": 28,
   "metadata": {},
   "outputs": [
    {
     "data": {
      "text/plain": [
       "250299"
      ]
     },
     "execution_count": 28,
     "metadata": {},
     "output_type": "execute_result"
    }
   ],
   "source": [
    "len(women_lemmas)"
   ]
  },
  {
   "cell_type": "markdown",
   "metadata": {},
   "source": [
    "---\n",
    "---\n",
    "---"
   ]
  },
  {
   "cell_type": "markdown",
   "metadata": {},
   "source": [
    "# Count Vectorizer"
   ]
  },
  {
   "cell_type": "markdown",
   "metadata": {},
   "source": [
    "---\n",
    "---\n",
    "---"
   ]
  },
  {
   "cell_type": "markdown",
   "metadata": {},
   "source": [
    "#### Creating a Seperate DataFrames for `Ask_Men` and `Ask_Women`"
   ]
  },
  {
   "cell_type": "code",
   "execution_count": 29,
   "metadata": {},
   "outputs": [],
   "source": [
    "women_df = df[df['subreddit_target'] == 1]\n",
    "men_df = df[df['subreddit_target'] ==0]"
   ]
  },
  {
   "cell_type": "code",
   "execution_count": 30,
   "metadata": {},
   "outputs": [
    {
     "data": {
      "text/plain": [
       "1    6984\n",
       "Name: subreddit_target, dtype: int64"
      ]
     },
     "execution_count": 30,
     "metadata": {},
     "output_type": "execute_result"
    }
   ],
   "source": [
    "women_df.subreddit_target.value_counts()"
   ]
  },
  {
   "cell_type": "code",
   "execution_count": 31,
   "metadata": {},
   "outputs": [
    {
     "data": {
      "text/plain": [
       "0    7477\n",
       "Name: subreddit_target, dtype: int64"
      ]
     },
     "execution_count": 31,
     "metadata": {},
     "output_type": "execute_result"
    }
   ],
   "source": [
    "men_df.subreddit_target.value_counts()"
   ]
  },
  {
   "cell_type": "markdown",
   "metadata": {},
   "source": [
    "#### Adding Customl Stop Words to Count Vectorizer"
   ]
  },
  {
   "cell_type": "code",
   "execution_count": 32,
   "metadata": {},
   "outputs": [],
   "source": [
    "cus_stops = stopwords.words()\n",
    "my_cus_stops = cus_stops + [\n",
    "    'like', 'just', 'im', 'dont','things', 'thing', 'make', 'don', 'does', 've', 'com', 'https', 'cause', \n",
    "    'amp', 'usually', 'super', 'knew', 'longer', 'happens', 'along','does,', 'ill', 'lol', 'using', 'wanna', \n",
    "    'however''time','person','year','way','day','thing','man','world','life','hand','part','child','eye','woman','place',\n",
    "    'work','week','case','point','company','number',\"be\",\"have\",\"do\",\"say\",\"get\",\"make\",\"go\",\"know\",\"take\",\"see\",\n",
    "    \"come\",\"think\",\"look\",\"want\",\"give\",\"use\",\"find\",\"tell\",\"ask\",\"work\",\"seem\",\"feel\",\"try\",\"leave\",\"call\",\"good\",\n",
    "    \"new\",\"first\",\"last\",\"long\",\"great\",\"little\",\"own\",\"other\",\"old\",\"right\",\"big\",\"high\",\"different\",\"small\",\"large\",\n",
    "    \"next\",\"early\",\"young\",\"few\",\"public\",\"bad\",\"same\",\"able\",\"to\",\"of\",\"in\",\"for\",\"on\",\"with\",\"at\",\"by\",\n",
    "    \"from\",\"up\",\"about\",\"into\",\"over\",\"after\",\"the\",\"and\",\"a\",\"that\",\"I\",\"it\",\"not\",\"he\",\"as\",\"you\",\"this\",\"but\",\n",
    "    \"his\",\"they\",\"her\",\"she\",\"or\",\"an\",\"will\",\"my\",\"one\",\"all\",\"would\",\"there\",\"their\", 'is', 'me', 'what', 'how', 'so', \n",
    "    'was', 'your', 'if', 'are', 'we','out', 'when', 'men', 'him', 'really', 'can', 'been', 'who', 'time', 'did', \n",
    "    'now', 'them', 'women', 'even', 'its', 'being','no', 'ive', 'should', 'were', 'something', 'people','never', \n",
    "    'back', 'always', 'then', 'much', 'going', 'someone', 'years','still', 'ever', 'also','guys', 'some', \n",
    "    'had', 'more', 'girl', 'am', 'because', 'why', 'has',\n",
    "    'than','got', 'very', 'only', 'said', 'too', 'reddit','where', 'off', 'myself', 'need', 'most', 'girls', \n",
    "    'could','anything', 'before', 'which', 'while', 'around', 'told', 'any', 'told', 'since', 'talk','our', 'best', 'getting',\n",
    "    'having', 'anyone', 'made', 'lot', 'looking','talking', 'question', 'well', 'down', 'started', 'again', 'months',\n",
    "    'together', 'without', 'better', 'asked', 'doing', 'here','pretty', 'times', 'many', 'cant', 'didnt', 'interested', 'every',\n",
    "    'bit', 'else', 'etc', 'actually', 'start', 'trying', 'each', 'each', 'hard', 'went','whats', 'through', \n",
    "    'both', 'keep', 'kind', 'sure', 'thought', 'wanted', 're', 'two', 'us', 'let', 'recently', 'thinking', \n",
    "    'doesnt', 'another', 'ago','makes', 'hes', 'often', 'feelings', 'maybe', 'these', 'away', 'feeling', 'those',\n",
    "    'asking','stuff', 'sometimes', 'end', 'deal', 'stop', 'night', 'met','situation', 'nothing', 'text', 'felt', 'normal',\n",
    "    'once', 'care', 'mean', 'mind', 'found', 'during', 'nice',  'saying', 'please', 'shes','seems',\n",
    "    'like', 'just', 'im', 'know', 'really', 'think', 'did', 'dont', 'make', 'things', 'good', 'does', 'life', \n",
    "    'way',   'ive', 'don', 've', 'going', 'day', 'work', 'said',  'reddit', 'got',  'need', 'man', 'say', 'best', \n",
    "    'ask','any', 'guy','women', 'like', 'just', 'know', 'im', 'feel', 'want', 'time', 'did','really', 'guy', \n",
    "    'think', 'dont', 'make', 'does', 'men', 'things', 'good', 'way', 'life', 'man', 'reddit','people', \n",
    "    'need', 'best', 'work', 'said', 'don', 've', 'going', 'girls', 'day', 'got', 'ask', 'having', 'guys',\n",
    "    'question']"
   ]
  },
  {
   "cell_type": "markdown",
   "metadata": {},
   "source": [
    "#### Instantiating CountVectorizer as `cvec`"
   ]
  },
  {
   "cell_type": "code",
   "execution_count": 33,
   "metadata": {},
   "outputs": [],
   "source": [
    "cvec = CountVectorizer(stop_words= my_cus_stops, min_df=5)"
   ]
  },
  {
   "cell_type": "markdown",
   "metadata": {},
   "source": [
    "#### Count Vectorizing For `men_df`, `women_df` and the whole data frame and saving as their own variable respectively "
   ]
  },
  {
   "cell_type": "code",
   "execution_count": 34,
   "metadata": {},
   "outputs": [
    {
     "name": "stderr",
     "output_type": "stream",
     "text": [
      "/Users/rwilkening/opt/anaconda3/lib/python3.7/site-packages/sklearn/feature_extraction/text.py:300: UserWarning: Your stop_words may be inconsistent with your preprocessing. Tokenizing the stop words generated tokens ['baiknya', 'berkali', 'kali', 'kurangnya', 'mata', 'olah', 'onların', 'printr', 'sekurang', 'setidak', 'tama', 'tidaknya', 'δι', 'арбаң', 'арсалаң', 'афташ', 'бай', 'бале', 'баски', 'батыр', 'баҳри', 'болои', 'бүгжең', 'бұтыр', 'валекин', 'вақте', 'вой', 'вуҷуди', 'гар', 'гарчанде', 'далаң', 'даме', 'ербелең', 'жалт', 'жұлт', 'карда', 'кошки', 'куя', 'күңгір', 'кӣ', 'магар', 'майлаш', 'митың', 'модоме', 'нияти', 'онан', 'оре', 'паһ', 'рӯи', 'салаң', 'сар', 'сұлаң', 'сұрт', 'тарбаң', 'тразе', 'ту', 'тыржың', 'тұрс', 'хом', 'хуб', 'чаро', 'чи', 'чун', 'чунон', 'шарте', 'шұңқ', 'ыржың', 'қадар', 'қайқаң', 'қалт', 'қаңғыр', 'қаңқ', 'қош', 'қызараң', 'құйқаң', 'құлт', 'құңқ', 'ұрс', 'ҳай', 'ҳамин', 'ҳатто', 'ҳо', 'ҳол', 'ҳолате', 'әттеген', 'ӯим', 'अक', 'अग', 'अझ', 'अन', 'अर', 'आजक', 'आत', 'आद', 'आफ', 'आय', 'ईक', 'उद', 'उनक', 'उनल', 'उह', 'एउट', 'एन', 'कog', 'कत', 'कम', 'कस', 'कसर', 'कह', 'गत', 'गय', 'गर', 'चम', 'छन', 'जत', 'जबक', 'जस', 'जसक', 'जसब', 'जसम', 'जसल', 'जह', 'तत', 'तथ', 'तदन', 'तप', 'तवम', 'नज', 'नत', 'नभन', 'नय', 'पक', 'पछ', 'पन', 'पय', 'पर', 'पष', 'पह', 'बन', 'बर', 'भएक', 'भय', 'भव', 'मल', 'यत', 'यथ', 'यद', 'यप', 'यसक', 'यसपछ', 'यसब', 'यसर', 'यह', 'रण', 'रत', 'रमश', 'रह', 'लस', 'वर', 'सक', 'सट', 'सध', 'सपछ', 'सब', 'सम', 'सर', 'सह', 'हन', 'हर', 'हरण', 'ἀλλ'] not in stop_words.\n",
      "  'stop_words.' % sorted(inconsistent))\n"
     ]
    }
   ],
   "source": [
    "#Ask Men\n",
    "  \n",
    "    \n",
    "    #Fit and transform\n",
    "men_cvec_matrix = cvec.fit_transform(men_df['all_text'])\n",
    "\n",
    "    #Convert to DataFrame\n",
    "men_cvec_df = pd.DataFrame(men_cvec_matrix.toarray(),\n",
    "                          columns=cvec.get_feature_names())\n",
    "\n",
    "\n",
    "\n",
    "#Ask Women\n",
    "\n",
    "    #Fit and transform\n",
    "women_cvec_matrix = cvec.fit_transform(women_df['all_text'])\n",
    "\n",
    "    #Convert to DataFrame\n",
    "women_cvec_df = pd.DataFrame(women_cvec_matrix.toarray(),\n",
    "                          columns=cvec.get_feature_names())\n",
    "\n",
    "\n",
    "\n",
    "#For Both\n",
    "\n",
    "    #Fit and transform\n",
    "cvec_matrix = cvec.fit_transform(df['all_text'])\n",
    "\n",
    "    #Convert to DataFrame\n",
    "cvec_df = pd.DataFrame(cvec_matrix.toarray(),\n",
    "                          columns=cvec.get_feature_names())"
   ]
  },
  {
   "cell_type": "markdown",
   "metadata": {},
   "source": [
    "#### Pulling the most common words for `ask_men` `ask_women` and all"
   ]
  },
  {
   "cell_type": "code",
   "execution_count": 35,
   "metadata": {},
   "outputs": [],
   "source": [
    "# #ask men\n",
    "top_men_word_counts = men_cvec_df.sum().sort_values(ascending=False).head(50)\n",
    "low_men_word_counts = men_cvec_df.sum().sort_values(ascending=True).head(50) \n",
    "\n",
    "#ask women\n",
    "top_women_word_counts = women_cvec_df.sum().sort_values(ascending=False).head(50)\n",
    "low_women_word_counts = women_cvec_df.sum().sort_values(ascending=True).head(50) \n",
    "\n",
    "#all\n",
    "top_word_counts = cvec_df.sum().sort_values(ascending=False).head(50) \n",
    "low_word_counts = cvec_df.sum().sort_values(ascending=True).head(50) "
   ]
  },
  {
   "cell_type": "markdown",
   "metadata": {},
   "source": [
    "#### Top Words in AskMen"
   ]
  },
  {
   "cell_type": "code",
   "execution_count": 36,
   "metadata": {},
   "outputs": [
    {
     "data": {
      "text/plain": [
       "friends          847\n",
       "sex              807\n",
       "relationship     731\n",
       "love             559\n",
       "help             556\n",
       "friend           550\n",
       "dating           535\n",
       "date             520\n",
       "advice           443\n",
       "girlfriend       417\n",
       "school           310\n",
       "job              283\n",
       "hair             269\n",
       "ex               263\n",
       "boyfriend        255\n",
       "days             242\n",
       "attractive       241\n",
       "male             239\n",
       "home             236\n",
       "past             233\n",
       "weird            225\n",
       "partner          221\n",
       "wrong            205\n",
       "meet             204\n",
       "experience       201\n",
       "female           200\n",
       "wants            196\n",
       "wondering        194\n",
       "enough           192\n",
       "social           192\n",
       "tried            192\n",
       "post             189\n",
       "self             186\n",
       "problem          186\n",
       "used             185\n",
       "gf               185\n",
       "though           185\n",
       "relationships    184\n",
       "porn             181\n",
       "almost           181\n",
       "live             180\n",
       "couple           176\n",
       "sexual           176\n",
       "conversation     176\n",
       "shit             175\n",
       "everything       175\n",
       "put              175\n",
       "dick             175\n",
       "thats            174\n",
       "working          174\n",
       "dtype: int64"
      ]
     },
     "execution_count": 36,
     "metadata": {},
     "output_type": "execute_result"
    }
   ],
   "source": [
    "top_men_word_counts"
   ]
  },
  {
   "cell_type": "markdown",
   "metadata": {},
   "source": [
    "#### Top Words in AskWomen"
   ]
  },
  {
   "cell_type": "code",
   "execution_count": 37,
   "metadata": {},
   "outputs": [
    {
     "data": {
      "text/plain": [
       "sex              483\n",
       "relationship     463\n",
       "friends          461\n",
       "help             422\n",
       "ladies           417\n",
       "friend           412\n",
       "love             406\n",
       "advice           370\n",
       "dating           306\n",
       "date             303\n",
       "partner          248\n",
       "hair             235\n",
       "period           235\n",
       "experience       226\n",
       "girlfriend       203\n",
       "female           200\n",
       "boyfriend        190\n",
       "attractive       182\n",
       "days             166\n",
       "male             159\n",
       "body             159\n",
       "thoughts         153\n",
       "sexual           148\n",
       "job              146\n",
       "past             144\n",
       "home             142\n",
       "self             139\n",
       "ex               137\n",
       "school           136\n",
       "control          134\n",
       "family           130\n",
       "birth            130\n",
       "weird            123\n",
       "though           122\n",
       "put              122\n",
       "post             121\n",
       "move             119\n",
       "married          118\n",
       "wrong            118\n",
       "wants            117\n",
       "wondering        117\n",
       "curious          115\n",
       "less             115\n",
       "done             114\n",
       "tried            110\n",
       "relationships    109\n",
       "thanks           108\n",
       "everything       108\n",
       "change           107\n",
       "might            107\n",
       "dtype: int64"
      ]
     },
     "execution_count": 37,
     "metadata": {},
     "output_type": "execute_result"
    }
   ],
   "source": [
    "top_women_word_counts"
   ]
  },
  {
   "cell_type": "markdown",
   "metadata": {},
   "source": [
    "#### Top Words in AskWomen"
   ]
  },
  {
   "cell_type": "code",
   "execution_count": 38,
   "metadata": {},
   "outputs": [
    {
     "data": {
      "text/plain": [
       "friends          1308\n",
       "sex              1290\n",
       "relationship     1194\n",
       "help              978\n",
       "love              965\n",
       "friend            962\n",
       "dating            841\n",
       "date              823\n",
       "advice            813\n",
       "girlfriend        620\n",
       "hair              504\n",
       "partner           469\n",
       "school            446\n",
       "boyfriend         445\n",
       "ladies            441\n",
       "job               429\n",
       "experience        427\n",
       "attractive        423\n",
       "days              408\n",
       "ex                400\n",
       "female            400\n",
       "male              398\n",
       "home              378\n",
       "past              377\n",
       "weird             348\n",
       "self              325\n",
       "sexual            324\n",
       "wrong             323\n",
       "body              314\n",
       "wants             313\n",
       "wondering         311\n",
       "meet              310\n",
       "post              310\n",
       "though            307\n",
       "thoughts          303\n",
       "tried             302\n",
       "put               297\n",
       "family            296\n",
       "relationships     293\n",
       "period            292\n",
       "used              290\n",
       "enough            288\n",
       "move              284\n",
       "everything        283\n",
       "social            283\n",
       "curious           281\n",
       "thanks            279\n",
       "gf                279\n",
       "live              278\n",
       "break             277\n",
       "dtype: int64"
      ]
     },
     "execution_count": 38,
     "metadata": {},
     "output_type": "execute_result"
    }
   ],
   "source": [
    "top_word_counts"
   ]
  },
  {
   "cell_type": "markdown",
   "metadata": {},
   "source": [
    "---\n",
    "---\n",
    "---"
   ]
  },
  {
   "cell_type": "markdown",
   "metadata": {},
   "source": [
    "# Sentiment"
   ]
  },
  {
   "cell_type": "markdown",
   "metadata": {},
   "source": [
    "---\n",
    "---\n",
    "---"
   ]
  },
  {
   "cell_type": "markdown",
   "metadata": {},
   "source": [
    "#### Instantiating Sentiment Analyzer"
   ]
  },
  {
   "cell_type": "code",
   "execution_count": 39,
   "metadata": {},
   "outputs": [],
   "source": [
    "sia = SentimentIntensityAnalyzer()"
   ]
  },
  {
   "cell_type": "markdown",
   "metadata": {},
   "source": [
    "#### Defining a Function that gets the Sentiment Score of Each Post"
   ]
  },
  {
   "cell_type": "code",
   "execution_count": 40,
   "metadata": {},
   "outputs": [],
   "source": [
    "def get_compound_sentiment(post):\n",
    "    return sia.polarity_scores(post)['compound']"
   ]
  },
  {
   "cell_type": "markdown",
   "metadata": {},
   "source": [
    "#### Creating a New Column with Sentiment Scores"
   ]
  },
  {
   "cell_type": "code",
   "execution_count": 41,
   "metadata": {},
   "outputs": [],
   "source": [
    "df['sentiment'] = df['all_text'].apply(get_compound_sentiment)"
   ]
  },
  {
   "cell_type": "markdown",
   "metadata": {},
   "source": [
    "#### Average Overall Sentiment Score"
   ]
  },
  {
   "cell_type": "code",
   "execution_count": 42,
   "metadata": {},
   "outputs": [
    {
     "data": {
      "text/plain": [
       "0.15988025032846911"
      ]
     },
     "execution_count": 42,
     "metadata": {},
     "output_type": "execute_result"
    }
   ],
   "source": [
    "df['sentiment'].mean()"
   ]
  },
  {
   "cell_type": "markdown",
   "metadata": {},
   "source": [
    "#### Average Sentiment Score By Subreddit\n",
    "\n",
    "0: Ask Men\n",
    "    \n",
    "1: Ask Women"
   ]
  },
  {
   "cell_type": "code",
   "execution_count": 43,
   "metadata": {},
   "outputs": [
    {
     "data": {
      "text/html": [
       "<div>\n",
       "<style scoped>\n",
       "    .dataframe tbody tr th:only-of-type {\n",
       "        vertical-align: middle;\n",
       "    }\n",
       "\n",
       "    .dataframe tbody tr th {\n",
       "        vertical-align: top;\n",
       "    }\n",
       "\n",
       "    .dataframe thead th {\n",
       "        text-align: right;\n",
       "    }\n",
       "</style>\n",
       "<table border=\"1\" class=\"dataframe\">\n",
       "  <thead>\n",
       "    <tr style=\"text-align: right;\">\n",
       "      <th></th>\n",
       "      <th>sentiment</th>\n",
       "    </tr>\n",
       "    <tr>\n",
       "      <th>subreddit_target</th>\n",
       "      <th></th>\n",
       "    </tr>\n",
       "  </thead>\n",
       "  <tbody>\n",
       "    <tr>\n",
       "      <th>0</th>\n",
       "      <td>0.172235</td>\n",
       "    </tr>\n",
       "    <tr>\n",
       "      <th>1</th>\n",
       "      <td>0.146654</td>\n",
       "    </tr>\n",
       "  </tbody>\n",
       "</table>\n",
       "</div>"
      ],
      "text/plain": [
       "                  sentiment\n",
       "subreddit_target           \n",
       "0                  0.172235\n",
       "1                  0.146654"
      ]
     },
     "execution_count": 43,
     "metadata": {},
     "output_type": "execute_result"
    }
   ],
   "source": [
    "df.groupby('subreddit_target')[['sentiment']].mean()"
   ]
  },
  {
   "cell_type": "markdown",
   "metadata": {},
   "source": [
    "#### Basic Stats For Sentiment Score\n",
    "\n",
    "0: Ask Men\n",
    "    \n",
    "1: Ask Women"
   ]
  },
  {
   "cell_type": "code",
   "execution_count": 44,
   "metadata": {},
   "outputs": [
    {
     "data": {
      "text/html": [
       "<div>\n",
       "<style scoped>\n",
       "    .dataframe tbody tr th:only-of-type {\n",
       "        vertical-align: middle;\n",
       "    }\n",
       "\n",
       "    .dataframe tbody tr th {\n",
       "        vertical-align: top;\n",
       "    }\n",
       "\n",
       "    .dataframe thead th {\n",
       "        text-align: right;\n",
       "    }\n",
       "</style>\n",
       "<table border=\"1\" class=\"dataframe\">\n",
       "  <thead>\n",
       "    <tr style=\"text-align: right;\">\n",
       "      <th></th>\n",
       "      <th>count</th>\n",
       "      <th>mean</th>\n",
       "      <th>std</th>\n",
       "      <th>min</th>\n",
       "      <th>25%</th>\n",
       "      <th>50%</th>\n",
       "      <th>75%</th>\n",
       "      <th>max</th>\n",
       "    </tr>\n",
       "    <tr>\n",
       "      <th>subreddit_target</th>\n",
       "      <th></th>\n",
       "      <th></th>\n",
       "      <th></th>\n",
       "      <th></th>\n",
       "      <th></th>\n",
       "      <th></th>\n",
       "      <th></th>\n",
       "      <th></th>\n",
       "    </tr>\n",
       "  </thead>\n",
       "  <tbody>\n",
       "    <tr>\n",
       "      <th>0</th>\n",
       "      <td>7477.0</td>\n",
       "      <td>0.172235</td>\n",
       "      <td>0.524052</td>\n",
       "      <td>-0.9984</td>\n",
       "      <td>-0.15</td>\n",
       "      <td>0.0</td>\n",
       "      <td>0.6369</td>\n",
       "      <td>0.9999</td>\n",
       "    </tr>\n",
       "    <tr>\n",
       "      <th>1</th>\n",
       "      <td>6984.0</td>\n",
       "      <td>0.146654</td>\n",
       "      <td>0.464227</td>\n",
       "      <td>-0.9957</td>\n",
       "      <td>0.00</td>\n",
       "      <td>0.0</td>\n",
       "      <td>0.4939</td>\n",
       "      <td>0.9995</td>\n",
       "    </tr>\n",
       "  </tbody>\n",
       "</table>\n",
       "</div>"
      ],
      "text/plain": [
       "                   count      mean       std     min   25%  50%     75%  \\\n",
       "subreddit_target                                                          \n",
       "0                 7477.0  0.172235  0.524052 -0.9984 -0.15  0.0  0.6369   \n",
       "1                 6984.0  0.146654  0.464227 -0.9957  0.00  0.0  0.4939   \n",
       "\n",
       "                     max  \n",
       "subreddit_target          \n",
       "0                 0.9999  \n",
       "1                 0.9995  "
      ]
     },
     "execution_count": 44,
     "metadata": {},
     "output_type": "execute_result"
    }
   ],
   "source": [
    "df.groupby('subreddit_target')['sentiment'].describe()"
   ]
  },
  {
   "cell_type": "markdown",
   "metadata": {},
   "source": [
    "#### Posts with Strongest Negative Sentiment Scores for `Ask_Men`"
   ]
  },
  {
   "cell_type": "code",
   "execution_count": 45,
   "metadata": {},
   "outputs": [
    {
     "data": {
      "text/html": [
       "<div>\n",
       "<style scoped>\n",
       "    .dataframe tbody tr th:only-of-type {\n",
       "        vertical-align: middle;\n",
       "    }\n",
       "\n",
       "    .dataframe tbody tr th {\n",
       "        vertical-align: top;\n",
       "    }\n",
       "\n",
       "    .dataframe thead th {\n",
       "        text-align: right;\n",
       "    }\n",
       "</style>\n",
       "<table border=\"1\" class=\"dataframe\">\n",
       "  <thead>\n",
       "    <tr style=\"text-align: right;\">\n",
       "      <th></th>\n",
       "      <th>subreddit_target</th>\n",
       "      <th>all_text</th>\n",
       "      <th>sentiment</th>\n",
       "    </tr>\n",
       "  </thead>\n",
       "  <tbody>\n",
       "    <tr>\n",
       "      <th>6845</th>\n",
       "      <td>0</td>\n",
       "      <td>immense guilt after breakup with needy girlfri...</td>\n",
       "      <td>-0.9984</td>\n",
       "    </tr>\n",
       "    <tr>\n",
       "      <th>8052</th>\n",
       "      <td>0</td>\n",
       "      <td>ex gf signed on to live with me then dumped me...</td>\n",
       "      <td>-0.9974</td>\n",
       "    </tr>\n",
       "    <tr>\n",
       "      <th>2926</th>\n",
       "      <td>0</td>\n",
       "      <td>how do u deal with threats and harrassment  i ...</td>\n",
       "      <td>-0.9970</td>\n",
       "    </tr>\n",
       "    <tr>\n",
       "      <th>8544</th>\n",
       "      <td>0</td>\n",
       "      <td>fellas  why does it always gotta be so hard ou...</td>\n",
       "      <td>-0.9968</td>\n",
       "    </tr>\n",
       "    <tr>\n",
       "      <th>7102</th>\n",
       "      <td>0</td>\n",
       "      <td>it really hurts to see that importance given t...</td>\n",
       "      <td>-0.9968</td>\n",
       "    </tr>\n",
       "    <tr>\n",
       "      <th>5782</th>\n",
       "      <td>0</td>\n",
       "      <td>do men find tears crying very alarming  so ive...</td>\n",
       "      <td>-0.9959</td>\n",
       "    </tr>\n",
       "    <tr>\n",
       "      <th>8717</th>\n",
       "      <td>0</td>\n",
       "      <td>should i move back to my hometown  im going a ...</td>\n",
       "      <td>-0.9959</td>\n",
       "    </tr>\n",
       "    <tr>\n",
       "      <th>2050</th>\n",
       "      <td>0</td>\n",
       "      <td>how can i fix things with my girlfriends paren...</td>\n",
       "      <td>-0.9958</td>\n",
       "    </tr>\n",
       "    <tr>\n",
       "      <th>1289</th>\n",
       "      <td>0</td>\n",
       "      <td>how do i get over being mad at my dad  so my p...</td>\n",
       "      <td>-0.9957</td>\n",
       "    </tr>\n",
       "    <tr>\n",
       "      <th>4176</th>\n",
       "      <td>0</td>\n",
       "      <td>got myself into a bad situation at school and ...</td>\n",
       "      <td>-0.9937</td>\n",
       "    </tr>\n",
       "    <tr>\n",
       "      <th>2171</th>\n",
       "      <td>0</td>\n",
       "      <td>how can i get my girlfriend to let me walk awa...</td>\n",
       "      <td>-0.9922</td>\n",
       "    </tr>\n",
       "    <tr>\n",
       "      <th>2333</th>\n",
       "      <td>0</td>\n",
       "      <td>my brother is a victim of domestic abuse  what...</td>\n",
       "      <td>-0.9921</td>\n",
       "    </tr>\n",
       "    <tr>\n",
       "      <th>2729</th>\n",
       "      <td>0</td>\n",
       "      <td>i wasn t sure where else to ask this  but i fe...</td>\n",
       "      <td>-0.9911</td>\n",
       "    </tr>\n",
       "    <tr>\n",
       "      <th>1677</th>\n",
       "      <td>0</td>\n",
       "      <td>fellow danglers have you or any other chap eve...</td>\n",
       "      <td>-0.9911</td>\n",
       "    </tr>\n",
       "    <tr>\n",
       "      <th>4731</th>\n",
       "      <td>0</td>\n",
       "      <td>how do i stop guys from harassing me  hi   im ...</td>\n",
       "      <td>-0.9898</td>\n",
       "    </tr>\n",
       "    <tr>\n",
       "      <th>5468</th>\n",
       "      <td>0</td>\n",
       "      <td>my gf is weighing me down with her suicidal th...</td>\n",
       "      <td>-0.9894</td>\n",
       "    </tr>\n",
       "    <tr>\n",
       "      <th>798</th>\n",
       "      <td>0</td>\n",
       "      <td>how did you benefit from having an abusive fat...</td>\n",
       "      <td>-0.9892</td>\n",
       "    </tr>\n",
       "    <tr>\n",
       "      <th>6285</th>\n",
       "      <td>0</td>\n",
       "      <td>how do i get over my first real love that ende...</td>\n",
       "      <td>-0.9877</td>\n",
       "    </tr>\n",
       "    <tr>\n",
       "      <th>2929</th>\n",
       "      <td>0</td>\n",
       "      <td>i dont know what to do this is gonna be really...</td>\n",
       "      <td>-0.9877</td>\n",
       "    </tr>\n",
       "    <tr>\n",
       "      <th>4266</th>\n",
       "      <td>0</td>\n",
       "      <td>how much money will it take for you to stay at...</td>\n",
       "      <td>-0.9876</td>\n",
       "    </tr>\n",
       "  </tbody>\n",
       "</table>\n",
       "</div>"
      ],
      "text/plain": [
       "      subreddit_target                                           all_text  \\\n",
       "6845                 0  immense guilt after breakup with needy girlfri...   \n",
       "8052                 0  ex gf signed on to live with me then dumped me...   \n",
       "2926                 0  how do u deal with threats and harrassment  i ...   \n",
       "8544                 0  fellas  why does it always gotta be so hard ou...   \n",
       "7102                 0  it really hurts to see that importance given t...   \n",
       "5782                 0  do men find tears crying very alarming  so ive...   \n",
       "8717                 0  should i move back to my hometown  im going a ...   \n",
       "2050                 0  how can i fix things with my girlfriends paren...   \n",
       "1289                 0  how do i get over being mad at my dad  so my p...   \n",
       "4176                 0  got myself into a bad situation at school and ...   \n",
       "2171                 0  how can i get my girlfriend to let me walk awa...   \n",
       "2333                 0  my brother is a victim of domestic abuse  what...   \n",
       "2729                 0  i wasn t sure where else to ask this  but i fe...   \n",
       "1677                 0  fellow danglers have you or any other chap eve...   \n",
       "4731                 0  how do i stop guys from harassing me  hi   im ...   \n",
       "5468                 0  my gf is weighing me down with her suicidal th...   \n",
       "798                  0  how did you benefit from having an abusive fat...   \n",
       "6285                 0  how do i get over my first real love that ende...   \n",
       "2929                 0  i dont know what to do this is gonna be really...   \n",
       "4266                 0  how much money will it take for you to stay at...   \n",
       "\n",
       "      sentiment  \n",
       "6845    -0.9984  \n",
       "8052    -0.9974  \n",
       "2926    -0.9970  \n",
       "8544    -0.9968  \n",
       "7102    -0.9968  \n",
       "5782    -0.9959  \n",
       "8717    -0.9959  \n",
       "2050    -0.9958  \n",
       "1289    -0.9957  \n",
       "4176    -0.9937  \n",
       "2171    -0.9922  \n",
       "2333    -0.9921  \n",
       "2729    -0.9911  \n",
       "1677    -0.9911  \n",
       "4731    -0.9898  \n",
       "5468    -0.9894  \n",
       "798     -0.9892  \n",
       "6285    -0.9877  \n",
       "2929    -0.9877  \n",
       "4266    -0.9876  "
      ]
     },
     "execution_count": 45,
     "metadata": {},
     "output_type": "execute_result"
    }
   ],
   "source": [
    "df[df['subreddit_target'] == 0].sort_values('sentiment').head(20)"
   ]
  },
  {
   "cell_type": "markdown",
   "metadata": {},
   "source": [
    "#### Post with Strongest Negative Sentiment Scores for `Ask_Women`"
   ]
  },
  {
   "cell_type": "code",
   "execution_count": 46,
   "metadata": {},
   "outputs": [
    {
     "data": {
      "text/html": [
       "<div>\n",
       "<style scoped>\n",
       "    .dataframe tbody tr th:only-of-type {\n",
       "        vertical-align: middle;\n",
       "    }\n",
       "\n",
       "    .dataframe tbody tr th {\n",
       "        vertical-align: top;\n",
       "    }\n",
       "\n",
       "    .dataframe thead th {\n",
       "        text-align: right;\n",
       "    }\n",
       "</style>\n",
       "<table border=\"1\" class=\"dataframe\">\n",
       "  <thead>\n",
       "    <tr style=\"text-align: right;\">\n",
       "      <th></th>\n",
       "      <th>subreddit_target</th>\n",
       "      <th>all_text</th>\n",
       "      <th>sentiment</th>\n",
       "    </tr>\n",
       "  </thead>\n",
       "  <tbody>\n",
       "    <tr>\n",
       "      <th>15621</th>\n",
       "      <td>1</td>\n",
       "      <td>to women who game  what game community made yo...</td>\n",
       "      <td>-0.9957</td>\n",
       "    </tr>\n",
       "    <tr>\n",
       "      <th>19105</th>\n",
       "      <td>1</td>\n",
       "      <td>do i love women  fucking fake depressed  chads...</td>\n",
       "      <td>-0.9940</td>\n",
       "    </tr>\n",
       "    <tr>\n",
       "      <th>12651</th>\n",
       "      <td>1</td>\n",
       "      <td>is this considered relationship  so i had a cr...</td>\n",
       "      <td>-0.9928</td>\n",
       "    </tr>\n",
       "    <tr>\n",
       "      <th>10125</th>\n",
       "      <td>1</td>\n",
       "      <td>what do i do i ve been struggling with depress...</td>\n",
       "      <td>-0.9920</td>\n",
       "    </tr>\n",
       "    <tr>\n",
       "      <th>14192</th>\n",
       "      <td>1</td>\n",
       "      <td>ladies  how do you open up to someone  especia...</td>\n",
       "      <td>-0.9902</td>\n",
       "    </tr>\n",
       "    <tr>\n",
       "      <th>17759</th>\n",
       "      <td>1</td>\n",
       "      <td>moms of reddit help  question for mothers with...</td>\n",
       "      <td>-0.9902</td>\n",
       "    </tr>\n",
       "    <tr>\n",
       "      <th>17546</th>\n",
       "      <td>1</td>\n",
       "      <td>a friend once told me she had really painful s...</td>\n",
       "      <td>-0.9888</td>\n",
       "    </tr>\n",
       "    <tr>\n",
       "      <th>15933</th>\n",
       "      <td>1</td>\n",
       "      <td>how much destruction is too much  so is dealin...</td>\n",
       "      <td>-0.9888</td>\n",
       "    </tr>\n",
       "    <tr>\n",
       "      <th>19351</th>\n",
       "      <td>1</td>\n",
       "      <td>is man spreading a really that bad so i was ju...</td>\n",
       "      <td>-0.9878</td>\n",
       "    </tr>\n",
       "    <tr>\n",
       "      <th>11223</th>\n",
       "      <td>1</td>\n",
       "      <td>what are your thoughts on kobe bryants death  ...</td>\n",
       "      <td>-0.9870</td>\n",
       "    </tr>\n",
       "    <tr>\n",
       "      <th>13230</th>\n",
       "      <td>1</td>\n",
       "      <td>does she like me so so ive been freinds with h...</td>\n",
       "      <td>-0.9865</td>\n",
       "    </tr>\n",
       "    <tr>\n",
       "      <th>13588</th>\n",
       "      <td>1</td>\n",
       "      <td>do you believe past lives are real  have you h...</td>\n",
       "      <td>-0.9855</td>\n",
       "    </tr>\n",
       "    <tr>\n",
       "      <th>15777</th>\n",
       "      <td>1</td>\n",
       "      <td>my girl has dick pics on her phone  should i s...</td>\n",
       "      <td>-0.9848</td>\n",
       "    </tr>\n",
       "    <tr>\n",
       "      <th>19491</th>\n",
       "      <td>1</td>\n",
       "      <td>my so messed up royally but has severe depress...</td>\n",
       "      <td>-0.9846</td>\n",
       "    </tr>\n",
       "    <tr>\n",
       "      <th>12887</th>\n",
       "      <td>1</td>\n",
       "      <td>always incredibly bloated after sex  can someo...</td>\n",
       "      <td>-0.9846</td>\n",
       "    </tr>\n",
       "    <tr>\n",
       "      <th>19456</th>\n",
       "      <td>1</td>\n",
       "      <td>is choking during sex a red flag  was recently...</td>\n",
       "      <td>-0.9830</td>\n",
       "    </tr>\n",
       "    <tr>\n",
       "      <th>17866</th>\n",
       "      <td>1</td>\n",
       "      <td>at      am i get my iud switched out for a new...</td>\n",
       "      <td>-0.9804</td>\n",
       "    </tr>\n",
       "    <tr>\n",
       "      <th>14011</th>\n",
       "      <td>1</td>\n",
       "      <td>do you ever feel uncomfortable in literally al...</td>\n",
       "      <td>-0.9803</td>\n",
       "    </tr>\n",
       "    <tr>\n",
       "      <th>17575</th>\n",
       "      <td>1</td>\n",
       "      <td>heartbroken  heartbroken   need some concrete ...</td>\n",
       "      <td>-0.9779</td>\n",
       "    </tr>\n",
       "    <tr>\n",
       "      <th>13312</th>\n",
       "      <td>1</td>\n",
       "      <td>i wanna get my nose pierced but my bf said he ...</td>\n",
       "      <td>-0.9770</td>\n",
       "    </tr>\n",
       "  </tbody>\n",
       "</table>\n",
       "</div>"
      ],
      "text/plain": [
       "       subreddit_target                                           all_text  \\\n",
       "15621                 1  to women who game  what game community made yo...   \n",
       "19105                 1  do i love women  fucking fake depressed  chads...   \n",
       "12651                 1  is this considered relationship  so i had a cr...   \n",
       "10125                 1  what do i do i ve been struggling with depress...   \n",
       "14192                 1  ladies  how do you open up to someone  especia...   \n",
       "17759                 1  moms of reddit help  question for mothers with...   \n",
       "17546                 1  a friend once told me she had really painful s...   \n",
       "15933                 1  how much destruction is too much  so is dealin...   \n",
       "19351                 1  is man spreading a really that bad so i was ju...   \n",
       "11223                 1  what are your thoughts on kobe bryants death  ...   \n",
       "13230                 1  does she like me so so ive been freinds with h...   \n",
       "13588                 1  do you believe past lives are real  have you h...   \n",
       "15777                 1  my girl has dick pics on her phone  should i s...   \n",
       "19491                 1  my so messed up royally but has severe depress...   \n",
       "12887                 1  always incredibly bloated after sex  can someo...   \n",
       "19456                 1  is choking during sex a red flag  was recently...   \n",
       "17866                 1  at      am i get my iud switched out for a new...   \n",
       "14011                 1  do you ever feel uncomfortable in literally al...   \n",
       "17575                 1  heartbroken  heartbroken   need some concrete ...   \n",
       "13312                 1  i wanna get my nose pierced but my bf said he ...   \n",
       "\n",
       "       sentiment  \n",
       "15621    -0.9957  \n",
       "19105    -0.9940  \n",
       "12651    -0.9928  \n",
       "10125    -0.9920  \n",
       "14192    -0.9902  \n",
       "17759    -0.9902  \n",
       "17546    -0.9888  \n",
       "15933    -0.9888  \n",
       "19351    -0.9878  \n",
       "11223    -0.9870  \n",
       "13230    -0.9865  \n",
       "13588    -0.9855  \n",
       "15777    -0.9848  \n",
       "19491    -0.9846  \n",
       "12887    -0.9846  \n",
       "19456    -0.9830  \n",
       "17866    -0.9804  \n",
       "14011    -0.9803  \n",
       "17575    -0.9779  \n",
       "13312    -0.9770  "
      ]
     },
     "execution_count": 46,
     "metadata": {},
     "output_type": "execute_result"
    }
   ],
   "source": [
    "df[df['subreddit_target'] == 1].sort_values('sentiment').head(20)"
   ]
  },
  {
   "cell_type": "markdown",
   "metadata": {},
   "source": [
    "#### Post with Strongest Positive Sentiments Score for `Ask_Men`"
   ]
  },
  {
   "cell_type": "code",
   "execution_count": 47,
   "metadata": {},
   "outputs": [
    {
     "data": {
      "text/html": [
       "<div>\n",
       "<style scoped>\n",
       "    .dataframe tbody tr th:only-of-type {\n",
       "        vertical-align: middle;\n",
       "    }\n",
       "\n",
       "    .dataframe tbody tr th {\n",
       "        vertical-align: top;\n",
       "    }\n",
       "\n",
       "    .dataframe thead th {\n",
       "        text-align: right;\n",
       "    }\n",
       "</style>\n",
       "<table border=\"1\" class=\"dataframe\">\n",
       "  <thead>\n",
       "    <tr style=\"text-align: right;\">\n",
       "      <th></th>\n",
       "      <th>subreddit_target</th>\n",
       "      <th>all_text</th>\n",
       "      <th>sentiment</th>\n",
       "    </tr>\n",
       "  </thead>\n",
       "  <tbody>\n",
       "    <tr>\n",
       "      <th>7000</th>\n",
       "      <td>0</td>\n",
       "      <td>developing an  entourage  social circle  amp  ...</td>\n",
       "      <td>0.9999</td>\n",
       "    </tr>\n",
       "    <tr>\n",
       "      <th>4112</th>\n",
       "      <td>0</td>\n",
       "      <td>what should i do with this girl  which option ...</td>\n",
       "      <td>0.9997</td>\n",
       "    </tr>\n",
       "    <tr>\n",
       "      <th>8849</th>\n",
       "      <td>0</td>\n",
       "      <td>is the grass ever greener  hi all    i m     a...</td>\n",
       "      <td>0.9995</td>\n",
       "    </tr>\n",
       "    <tr>\n",
       "      <th>5971</th>\n",
       "      <td>0</td>\n",
       "      <td>how to make lasting male friendships in your l...</td>\n",
       "      <td>0.9994</td>\n",
       "    </tr>\n",
       "    <tr>\n",
       "      <th>7998</th>\n",
       "      <td>0</td>\n",
       "      <td>do i move on or give him the benefit of the do...</td>\n",
       "      <td>0.9993</td>\n",
       "    </tr>\n",
       "    <tr>\n",
       "      <th>4146</th>\n",
       "      <td>0</td>\n",
       "      <td>how to deal with a  distant  friend  first of ...</td>\n",
       "      <td>0.9989</td>\n",
       "    </tr>\n",
       "    <tr>\n",
       "      <th>4737</th>\n",
       "      <td>0</td>\n",
       "      <td>i ve been blocked by my ex girlfriend for abou...</td>\n",
       "      <td>0.9989</td>\n",
       "    </tr>\n",
       "    <tr>\n",
       "      <th>5450</th>\n",
       "      <td>0</td>\n",
       "      <td>should i marry her  i love this girl  but i m ...</td>\n",
       "      <td>0.9989</td>\n",
       "    </tr>\n",
       "    <tr>\n",
       "      <th>9473</th>\n",
       "      <td>0</td>\n",
       "      <td>what are your best ideas for improving your qu...</td>\n",
       "      <td>0.9987</td>\n",
       "    </tr>\n",
       "    <tr>\n",
       "      <th>8898</th>\n",
       "      <td>0</td>\n",
       "      <td>is he really interested   single fathers  answ...</td>\n",
       "      <td>0.9987</td>\n",
       "    </tr>\n",
       "    <tr>\n",
       "      <th>8859</th>\n",
       "      <td>0</td>\n",
       "      <td>should i end this fwb relationship  if yes  ho...</td>\n",
       "      <td>0.9984</td>\n",
       "    </tr>\n",
       "    <tr>\n",
       "      <th>7626</th>\n",
       "      <td>0</td>\n",
       "      <td>how to know if im about to make the worst mist...</td>\n",
       "      <td>0.9984</td>\n",
       "    </tr>\n",
       "    <tr>\n",
       "      <th>8852</th>\n",
       "      <td>0</td>\n",
       "      <td>how do i end this addictive fwb relationship  ...</td>\n",
       "      <td>0.9983</td>\n",
       "    </tr>\n",
       "    <tr>\n",
       "      <th>9553</th>\n",
       "      <td>0</td>\n",
       "      <td>how to deal with a man who you feel plays game...</td>\n",
       "      <td>0.9983</td>\n",
       "    </tr>\n",
       "    <tr>\n",
       "      <th>1163</th>\n",
       "      <td>0</td>\n",
       "      <td>feel like a catch  but struggling with girls  ...</td>\n",
       "      <td>0.9983</td>\n",
       "    </tr>\n",
       "    <tr>\n",
       "      <th>2447</th>\n",
       "      <td>0</td>\n",
       "      <td>are a lot of men as confused when it come to t...</td>\n",
       "      <td>0.9982</td>\n",
       "    </tr>\n",
       "    <tr>\n",
       "      <th>5110</th>\n",
       "      <td>0</td>\n",
       "      <td>can you really be platonic friends with someon...</td>\n",
       "      <td>0.9981</td>\n",
       "    </tr>\n",
       "    <tr>\n",
       "      <th>5060</th>\n",
       "      <td>0</td>\n",
       "      <td>my life long best friend wants to date me  i v...</td>\n",
       "      <td>0.9979</td>\n",
       "    </tr>\n",
       "    <tr>\n",
       "      <th>3889</th>\n",
       "      <td>0</td>\n",
       "      <td>is it normal for a guy to cum in seconds from ...</td>\n",
       "      <td>0.9978</td>\n",
       "    </tr>\n",
       "    <tr>\n",
       "      <th>747</th>\n",
       "      <td>0</td>\n",
       "      <td>how would you handle a situation in which you ...</td>\n",
       "      <td>0.9977</td>\n",
       "    </tr>\n",
       "  </tbody>\n",
       "</table>\n",
       "</div>"
      ],
      "text/plain": [
       "      subreddit_target                                           all_text  \\\n",
       "7000                 0  developing an  entourage  social circle  amp  ...   \n",
       "4112                 0  what should i do with this girl  which option ...   \n",
       "8849                 0  is the grass ever greener  hi all    i m     a...   \n",
       "5971                 0  how to make lasting male friendships in your l...   \n",
       "7998                 0  do i move on or give him the benefit of the do...   \n",
       "4146                 0  how to deal with a  distant  friend  first of ...   \n",
       "4737                 0  i ve been blocked by my ex girlfriend for abou...   \n",
       "5450                 0  should i marry her  i love this girl  but i m ...   \n",
       "9473                 0  what are your best ideas for improving your qu...   \n",
       "8898                 0  is he really interested   single fathers  answ...   \n",
       "8859                 0  should i end this fwb relationship  if yes  ho...   \n",
       "7626                 0  how to know if im about to make the worst mist...   \n",
       "8852                 0  how do i end this addictive fwb relationship  ...   \n",
       "9553                 0  how to deal with a man who you feel plays game...   \n",
       "1163                 0  feel like a catch  but struggling with girls  ...   \n",
       "2447                 0  are a lot of men as confused when it come to t...   \n",
       "5110                 0  can you really be platonic friends with someon...   \n",
       "5060                 0  my life long best friend wants to date me  i v...   \n",
       "3889                 0  is it normal for a guy to cum in seconds from ...   \n",
       "747                  0  how would you handle a situation in which you ...   \n",
       "\n",
       "      sentiment  \n",
       "7000     0.9999  \n",
       "4112     0.9997  \n",
       "8849     0.9995  \n",
       "5971     0.9994  \n",
       "7998     0.9993  \n",
       "4146     0.9989  \n",
       "4737     0.9989  \n",
       "5450     0.9989  \n",
       "9473     0.9987  \n",
       "8898     0.9987  \n",
       "8859     0.9984  \n",
       "7626     0.9984  \n",
       "8852     0.9983  \n",
       "9553     0.9983  \n",
       "1163     0.9983  \n",
       "2447     0.9982  \n",
       "5110     0.9981  \n",
       "5060     0.9979  \n",
       "3889     0.9978  \n",
       "747      0.9977  "
      ]
     },
     "execution_count": 47,
     "metadata": {},
     "output_type": "execute_result"
    }
   ],
   "source": [
    "df[df['subreddit_target'] == 0].sort_values('sentiment', ascending=False).head(20)"
   ]
  },
  {
   "cell_type": "markdown",
   "metadata": {},
   "source": [
    "#### Post with Strongest Sentiment Score for `ask_women`"
   ]
  },
  {
   "cell_type": "code",
   "execution_count": 48,
   "metadata": {},
   "outputs": [
    {
     "data": {
      "text/html": [
       "<div>\n",
       "<style scoped>\n",
       "    .dataframe tbody tr th:only-of-type {\n",
       "        vertical-align: middle;\n",
       "    }\n",
       "\n",
       "    .dataframe tbody tr th {\n",
       "        vertical-align: top;\n",
       "    }\n",
       "\n",
       "    .dataframe thead th {\n",
       "        text-align: right;\n",
       "    }\n",
       "</style>\n",
       "<table border=\"1\" class=\"dataframe\">\n",
       "  <thead>\n",
       "    <tr style=\"text-align: right;\">\n",
       "      <th></th>\n",
       "      <th>subreddit_target</th>\n",
       "      <th>all_text</th>\n",
       "      <th>sentiment</th>\n",
       "    </tr>\n",
       "  </thead>\n",
       "  <tbody>\n",
       "    <tr>\n",
       "      <th>19442</th>\n",
       "      <td>1</td>\n",
       "      <td>i m feeling brave   but as part of my resolve ...</td>\n",
       "      <td>0.9995</td>\n",
       "    </tr>\n",
       "    <tr>\n",
       "      <th>15685</th>\n",
       "      <td>1</td>\n",
       "      <td>help i might have posted this somewhere else b...</td>\n",
       "      <td>0.9994</td>\n",
       "    </tr>\n",
       "    <tr>\n",
       "      <th>19751</th>\n",
       "      <td>1</td>\n",
       "      <td>should i visit my guy friend  who i may or may...</td>\n",
       "      <td>0.9989</td>\n",
       "    </tr>\n",
       "    <tr>\n",
       "      <th>15830</th>\n",
       "      <td>1</td>\n",
       "      <td>getting gift  clothing  for sister  need advic...</td>\n",
       "      <td>0.9985</td>\n",
       "    </tr>\n",
       "    <tr>\n",
       "      <th>10068</th>\n",
       "      <td>1</td>\n",
       "      <td>honest opinion on my first love story i just w...</td>\n",
       "      <td>0.9984</td>\n",
       "    </tr>\n",
       "    <tr>\n",
       "      <th>11559</th>\n",
       "      <td>1</td>\n",
       "      <td>women of reddit  how did you distinguish betwe...</td>\n",
       "      <td>0.9984</td>\n",
       "    </tr>\n",
       "    <tr>\n",
       "      <th>13642</th>\n",
       "      <td>1</td>\n",
       "      <td>i have never told anyone the full story of me ...</td>\n",
       "      <td>0.9983</td>\n",
       "    </tr>\n",
       "    <tr>\n",
       "      <th>12781</th>\n",
       "      <td>1</td>\n",
       "      <td>is this going anywhere do you think  i met thi...</td>\n",
       "      <td>0.9980</td>\n",
       "    </tr>\n",
       "    <tr>\n",
       "      <th>11504</th>\n",
       "      <td>1</td>\n",
       "      <td>is this whole nice guy thing exaggerated  gree...</td>\n",
       "      <td>0.9979</td>\n",
       "    </tr>\n",
       "    <tr>\n",
       "      <th>12597</th>\n",
       "      <td>1</td>\n",
       "      <td>normal for a guy to not last long when giving ...</td>\n",
       "      <td>0.9979</td>\n",
       "    </tr>\n",
       "    <tr>\n",
       "      <th>11119</th>\n",
       "      <td>1</td>\n",
       "      <td>frustrated w gf  want her to be happy tldr  ho...</td>\n",
       "      <td>0.9974</td>\n",
       "    </tr>\n",
       "    <tr>\n",
       "      <th>15997</th>\n",
       "      <td>1</td>\n",
       "      <td>safety tips for a woman who will be watching a...</td>\n",
       "      <td>0.9972</td>\n",
       "    </tr>\n",
       "    <tr>\n",
       "      <th>12343</th>\n",
       "      <td>1</td>\n",
       "      <td>in need of womens advice on how to proceed wit...</td>\n",
       "      <td>0.9972</td>\n",
       "    </tr>\n",
       "    <tr>\n",
       "      <th>17824</th>\n",
       "      <td>1</td>\n",
       "      <td>im not trying to make myself a second moon  th...</td>\n",
       "      <td>0.9972</td>\n",
       "    </tr>\n",
       "    <tr>\n",
       "      <th>15361</th>\n",
       "      <td>1</td>\n",
       "      <td>my friend  f  late   s  husband  late   s  jus...</td>\n",
       "      <td>0.9971</td>\n",
       "    </tr>\n",
       "    <tr>\n",
       "      <th>11236</th>\n",
       "      <td>1</td>\n",
       "      <td>best friends to roommates with different stand...</td>\n",
       "      <td>0.9971</td>\n",
       "    </tr>\n",
       "    <tr>\n",
       "      <th>11835</th>\n",
       "      <td>1</td>\n",
       "      <td>women of reddit what did i do wrong that i was...</td>\n",
       "      <td>0.9970</td>\n",
       "    </tr>\n",
       "    <tr>\n",
       "      <th>11938</th>\n",
       "      <td>1</td>\n",
       "      <td>what would you think about a one night stand w...</td>\n",
       "      <td>0.9970</td>\n",
       "    </tr>\n",
       "    <tr>\n",
       "      <th>17853</th>\n",
       "      <td>1</td>\n",
       "      <td>would you be offended if a guy approached you ...</td>\n",
       "      <td>0.9970</td>\n",
       "    </tr>\n",
       "    <tr>\n",
       "      <th>15622</th>\n",
       "      <td>1</td>\n",
       "      <td>anyone with good tips resources for overcoming...</td>\n",
       "      <td>0.9969</td>\n",
       "    </tr>\n",
       "  </tbody>\n",
       "</table>\n",
       "</div>"
      ],
      "text/plain": [
       "       subreddit_target                                           all_text  \\\n",
       "19442                 1  i m feeling brave   but as part of my resolve ...   \n",
       "15685                 1  help i might have posted this somewhere else b...   \n",
       "19751                 1  should i visit my guy friend  who i may or may...   \n",
       "15830                 1  getting gift  clothing  for sister  need advic...   \n",
       "10068                 1  honest opinion on my first love story i just w...   \n",
       "11559                 1  women of reddit  how did you distinguish betwe...   \n",
       "13642                 1  i have never told anyone the full story of me ...   \n",
       "12781                 1  is this going anywhere do you think  i met thi...   \n",
       "11504                 1  is this whole nice guy thing exaggerated  gree...   \n",
       "12597                 1  normal for a guy to not last long when giving ...   \n",
       "11119                 1  frustrated w gf  want her to be happy tldr  ho...   \n",
       "15997                 1  safety tips for a woman who will be watching a...   \n",
       "12343                 1  in need of womens advice on how to proceed wit...   \n",
       "17824                 1  im not trying to make myself a second moon  th...   \n",
       "15361                 1  my friend  f  late   s  husband  late   s  jus...   \n",
       "11236                 1  best friends to roommates with different stand...   \n",
       "11835                 1  women of reddit what did i do wrong that i was...   \n",
       "11938                 1  what would you think about a one night stand w...   \n",
       "17853                 1  would you be offended if a guy approached you ...   \n",
       "15622                 1  anyone with good tips resources for overcoming...   \n",
       "\n",
       "       sentiment  \n",
       "19442     0.9995  \n",
       "15685     0.9994  \n",
       "19751     0.9989  \n",
       "15830     0.9985  \n",
       "10068     0.9984  \n",
       "11559     0.9984  \n",
       "13642     0.9983  \n",
       "12781     0.9980  \n",
       "11504     0.9979  \n",
       "12597     0.9979  \n",
       "11119     0.9974  \n",
       "15997     0.9972  \n",
       "12343     0.9972  \n",
       "17824     0.9972  \n",
       "15361     0.9971  \n",
       "11236     0.9971  \n",
       "11835     0.9970  \n",
       "11938     0.9970  \n",
       "17853     0.9970  \n",
       "15622     0.9969  "
      ]
     },
     "execution_count": 48,
     "metadata": {},
     "output_type": "execute_result"
    }
   ],
   "source": [
    "df[df['subreddit_target'] == 1].sort_values('sentiment', ascending=False).head(20)"
   ]
  },
  {
   "cell_type": "markdown",
   "metadata": {},
   "source": [
    "#### Checking for Outliers and General Distribution of Overall Sentiment"
   ]
  },
  {
   "cell_type": "code",
   "execution_count": 49,
   "metadata": {},
   "outputs": [
    {
     "data": {
      "image/png": "[encoded data removed]",
      "text/plain": [
       "<Figure size 432x288 with 1 Axes>"
      ]
     },
     "metadata": {
      "image/png": {
       "height": 261,
       "width": 352
      },
      "needs_background": "light"
     },
     "output_type": "display_data"
    }
   ],
   "source": [
    "sns.boxplot(df['sentiment'], color = 'green');"
   ]
  },
  {
   "cell_type": "markdown",
   "metadata": {},
   "source": [
    "#### Plotting a Distribution For Sentiment Scores for `Ask_Men` and `Ask_Women`"
   ]
  },
  {
   "cell_type": "code",
   "execution_count": 50,
   "metadata": {
    "scrolled": false
   },
   "outputs": [
    {
     "data": {
      "image/png": "[encoded data removed]",
      "text/plain": [
       "<Figure size 1440x720 with 1 Axes>"
      ]
     },
     "metadata": {
      "image/png": {
       "height": 615,
       "width": 1216
      },
      "needs_background": "light"
     },
     "output_type": "display_data"
    }
   ],
   "source": [
    "plt.figure(figsize=(20,10))\n",
    "\n",
    "\n",
    "df.groupby('subreddit_target')['sentiment'].plot(kind='hist', alpha = 0.3);\n",
    "\n",
    "plt.legend(['Ask Men', 'Ask Women'], prop={'size': 40});\n",
    "plt.yticks(fontsize=18)\n",
    "plt.xticks(fontsize=18)\n",
    "\n",
    "plt.ylabel('Number of Posts', fontsize=30)\n",
    "plt.xlabel('Sentiment Score', fontsize=30);\n"
   ]
  },
  {
   "cell_type": "markdown",
   "metadata": {},
   "source": [
    "#### Over all Distribution of Sentiment Scores"
   ]
  },
  {
   "cell_type": "code",
   "execution_count": 51,
   "metadata": {},
   "outputs": [
    {
     "data": {
      "image/png": "[encoded data removed]",
      "text/plain": [
       "<Figure size 1440x720 with 1 Axes>"
      ]
     },
     "metadata": {
      "image/png": {
       "height": 608,
       "width": 1196
      },
      "needs_background": "light"
     },
     "output_type": "display_data"
    }
   ],
   "source": [
    "plt.figure(figsize=(20,10))\n",
    "\n",
    "\n",
    "df['sentiment'].plot(kind='hist', alpha = 1, color='green');\n",
    "plt.ylabel('Frequency', fontsize=30)\n",
    "plt.xlabel('Sentiment Scores', fontsize=30);"
   ]
  },
  {
   "cell_type": "markdown",
   "metadata": {},
   "source": [
    "#### Over all check for Outliers, Distributions, and Quartile for Sentiment Scores"
   ]
  },
  {
   "cell_type": "code",
   "execution_count": 52,
   "metadata": {},
   "outputs": [
    {
     "data": {
      "image/png": "[encoded data removed]",
      "text/plain": [
       "<Figure size 1440x720 with 1 Axes>"
      ]
     },
     "metadata": {
      "image/png": {
       "height": 637,
       "width": 1133
      },
      "needs_background": "light"
     },
     "output_type": "display_data"
    }
   ],
   "source": [
    "plt.figure(figsize=(20,10))\n",
    "\n",
    "\n",
    "sns.boxplot(x=df['sentiment'],  color='green');\n",
    "plt.title(\"Column Outliers and Mean\", fontsize = 30);\n",
    "plt.xlabel(\"Sentiment Score\", size = 30);"
   ]
  },
  {
   "cell_type": "markdown",
   "metadata": {},
   "source": [
    "---\n",
    "---\n",
    "---"
   ]
  },
  {
   "cell_type": "markdown",
   "metadata": {},
   "source": [
    "# Word Count Per Posts"
   ]
  },
  {
   "cell_type": "markdown",
   "metadata": {},
   "source": [
    "---\n",
    "---\n",
    "---"
   ]
  },
  {
   "cell_type": "markdown",
   "metadata": {},
   "source": [
    "#### Creating a Column with Word Count for Posts"
   ]
  },
  {
   "cell_type": "code",
   "execution_count": 53,
   "metadata": {},
   "outputs": [],
   "source": [
    "df['count'] = df.all_text.map(lambda x: len(x.split()))"
   ]
  },
  {
   "cell_type": "markdown",
   "metadata": {},
   "source": [
    "#### Average Word Count Per Posts \n",
    "\n",
    "o: Ask Men\n",
    "\n",
    "1: Ask Women"
   ]
  },
  {
   "cell_type": "code",
   "execution_count": 54,
   "metadata": {},
   "outputs": [
    {
     "data": {
      "text/html": [
       "<div>\n",
       "<style scoped>\n",
       "    .dataframe tbody tr th:only-of-type {\n",
       "        vertical-align: middle;\n",
       "    }\n",
       "\n",
       "    .dataframe tbody tr th {\n",
       "        vertical-align: top;\n",
       "    }\n",
       "\n",
       "    .dataframe thead th {\n",
       "        text-align: right;\n",
       "    }\n",
       "</style>\n",
       "<table border=\"1\" class=\"dataframe\">\n",
       "  <thead>\n",
       "    <tr style=\"text-align: right;\">\n",
       "      <th></th>\n",
       "      <th>count</th>\n",
       "    </tr>\n",
       "    <tr>\n",
       "      <th>subreddit_target</th>\n",
       "      <th></th>\n",
       "    </tr>\n",
       "  </thead>\n",
       "  <tbody>\n",
       "    <tr>\n",
       "      <th>0</th>\n",
       "      <td>56.144577</td>\n",
       "    </tr>\n",
       "    <tr>\n",
       "      <th>1</th>\n",
       "      <td>35.838918</td>\n",
       "    </tr>\n",
       "  </tbody>\n",
       "</table>\n",
       "</div>"
      ],
      "text/plain": [
       "                      count\n",
       "subreddit_target           \n",
       "0                 56.144577\n",
       "1                 35.838918"
      ]
     },
     "execution_count": 54,
     "metadata": {},
     "output_type": "execute_result"
    }
   ],
   "source": [
    "df.groupby('subreddit_target')[['count']].mean()"
   ]
  },
  {
   "cell_type": "markdown",
   "metadata": {},
   "source": [
    "#### Plotting the Frequency Of Words Per Post"
   ]
  },
  {
   "cell_type": "code",
   "execution_count": 55,
   "metadata": {},
   "outputs": [
    {
     "data": {
      "image/png": "[encoded data removed]",
      "text/plain": [
       "<Figure size 1440x720 with 1 Axes>"
      ]
     },
     "metadata": {
      "image/png": {
       "height": 644,
       "width": 1216
      },
      "needs_background": "light"
     },
     "output_type": "display_data"
    }
   ],
   "source": [
    "count_mask = (df['count'] < 300)\n",
    "man_mask = (df['subreddit_target'] == 0)\n",
    "woman_mask = (df['subreddit_target'] == 1)\n",
    "\n",
    "\n",
    "plt.figure(figsize=(20,10))\n",
    "plt.hist([df[man_mask & count_mask]['count'], \n",
    "          df[woman_mask & count_mask]['count']],\n",
    "         bins=10, color=['skyblue', 'orange'], ec='k')\n",
    "plt.title('Word Count Per Post', fontsize=30)\n",
    "plt.legend(['Ask Men', 'Ask Women'], prop={'size': 40});\n",
    "plt.ylabel('Frequency', fontsize =30);\n",
    "plt.xlabel('Word Count', fontsize =30);\n",
    "\n",
    "plt.yticks(fontsize=18)\n",
    "plt.xticks(fontsize=18);"
   ]
  },
  {
   "cell_type": "markdown",
   "metadata": {},
   "source": [
    "#### Exporting to csv for Modeling"
   ]
  },
  {
   "cell_type": "code",
   "execution_count": 58,
   "metadata": {},
   "outputs": [],
   "source": [
    "df.to_csv('./2_modeling_csv', index = False)"
   ]
  },
  {
   "cell_type": "markdown",
   "metadata": {},
   "source": [
    "---\n",
    "---\n",
    "---"
   ]
  },
  {
   "cell_type": "markdown",
   "metadata": {},
   "source": [
    "# <span style = 'color:green'> To the Modeling Notebook!"
   ]
  }
 ],
 "metadata": {
  "kernelspec": {
   "display_name": "Python 3 (ipykernel)",
   "language": "python",
   "name": "python3"
  },
  "language_info": {
   "codemirror_mode": {
    "name": "ipython",
    "version": 3
   },
   "file_extension": ".py",
   "mimetype": "text/x-python",
   "name": "python",
   "nbconvert_exporter": "python",
   "pygments_lexer": "ipython3",
   "version": "3.10.9"
  },
  "toc": {
   "base_numbering": 1,
   "nav_menu": {},
   "number_sections": true,
   "sideBar": true,
   "skip_h1_title": false,
   "title_cell": "Table of Contents",
   "title_sidebar": "Contents",
   "toc_cell": false,
   "toc_position": {},
   "toc_section_display": true,
   "toc_window_display": false
  },
  "varInspector": {
   "cols": {
    "lenName": 16,
    "lenType": 16,
    "lenVar": 40
   },
   "kernels_config": {
    "python": {
     "delete_cmd_postfix": "",
     "delete_cmd_prefix": "del ",
     "library": "var_list.py",
     "varRefreshCmd": "print(var_dic_list())"
    },
    "r": {
     "delete_cmd_postfix": ") ",
     "delete_cmd_prefix": "rm(",
     "library": "var_list.r",
     "varRefreshCmd": "cat(var_dic_list()) "
    }
   },
   "types_to_exclude": [
    "module",
    "function",
    "builtin_function_or_method",
    "instance",
    "_Feature"
   ],
   "window_display": false
  }
 },
 "nbformat": 4,
 "nbformat_minor": 4
}
